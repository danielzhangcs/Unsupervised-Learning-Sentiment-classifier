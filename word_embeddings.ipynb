{
 "cells": [
  {
   "cell_type": "code",
   "execution_count": 1,
   "metadata": {},
   "outputs": [],
   "source": [
    "#Change this if necessary\n",
    "data_dir = 'data'\n",
    "pretrained_word_embeddings_path = 'glove.6B.100d.word2vec_format.txt'"
   ]
  },
  {
   "cell_type": "code",
   "execution_count": 2,
   "metadata": {},
   "outputs": [],
   "source": [
    "import pickle\n",
    "from sklearn.neighbors import NearestNeighbors, KNeighborsClassifier\n",
    "import gensim\n",
    "import utils\n",
    "import numpy as np\n",
    "from sklearn.decomposition import TruncatedSVD\n",
    "import matplotlib.pyplot as plt"
   ]
  },
  {
   "cell_type": "markdown",
   "metadata": {},
   "source": [
    "# Compare pretrained vs. custom word embeddings\n",
    "\n",
    "* Compare the word embedings for individual words (try positive words, negative words, nouns, verbs)\n",
    "* What similarities do you see and what differencies do you see?"
   ]
  },
  {
   "cell_type": "code",
   "execution_count": 3,
   "metadata": {},
   "outputs": [],
   "source": [
    "#Load pretrained and custom word embeddings\n",
    "pretrained = gensim.models.KeyedVectors.load_word2vec_format(pretrained_word_embeddings_path)\n",
    "custom = pickle.load(open('custom_word_embeddings.pkl', 'rb'))"
   ]
  },
  {
   "cell_type": "code",
   "execution_count": null,
   "metadata": {},
   "outputs": [],
   "source": [
    "#superman, like, phone, glass, best, macarthur"
   ]
  },
  {
   "cell_type": "code",
   "execution_count": 4,
   "metadata": {},
   "outputs": [
    {
     "data": {
      "text/plain": [
       "[('truman', 0.5855777263641357),\n",
       " ('eisenhower', 0.5315422415733337),\n",
       " ('roosevelt', 0.5190081596374512),\n",
       " ('blamey', 0.5178776979446411),\n",
       " ('peck', 0.517310380935669),\n",
       " ('marshall', 0.513713002204895),\n",
       " ('ulysses', 0.5110025405883789),\n",
       " ('dewey', 0.5108863711357117),\n",
       " ('woodrow', 0.4982849955558777),\n",
       " ('forrest', 0.4922660291194916)]"
      ]
     },
     "execution_count": 4,
     "metadata": {},
     "output_type": "execute_result"
    }
   ],
   "source": [
    "pretrained.most_similar(['macarthur'])"
   ]
  },
  {
   "cell_type": "code",
   "execution_count": 5,
   "metadata": {},
   "outputs": [
    {
     "data": {
      "text/plain": [
       "[('commander', 0.7538551688194275),\n",
       " ('melbourne', 0.7535319328308105),\n",
       " ('cia', 0.7280160784721375),\n",
       " ('lex', 0.7209477424621582),\n",
       " ('fetisov', 0.7092979550361633),\n",
       " ('president', 0.7064594030380249),\n",
       " ('prophet', 0.7037036418914795),\n",
       " ('lt', 0.7010306119918823),\n",
       " ('zanuck', 0.6982249021530151),\n",
       " ('brashear', 0.697640597820282)]"
      ]
     },
     "execution_count": 5,
     "metadata": {},
     "output_type": "execute_result"
    }
   ],
   "source": [
    "custom.most_similar(['macarthur'])"
   ]
  },
  {
   "cell_type": "code",
   "execution_count": 143,
   "metadata": {},
   "outputs": [
    {
     "data": {
      "text/plain": [
       "[('rates', 0.9191826581954956),\n",
       " ('inflation', 0.782524824142456),\n",
       " ('increases', 0.7770980596542358),\n",
       " ('rise', 0.7459971904754639),\n",
       " ('higher', 0.7445486783981323),\n",
       " ('increase', 0.7373809814453125),\n",
       " ('low', 0.7282389998435974),\n",
       " ('growth', 0.7270269393920898),\n",
       " ('unemployment', 0.7264870405197144),\n",
       " ('interest', 0.7184916138648987)]"
      ]
     },
     "execution_count": 143,
     "metadata": {},
     "output_type": "execute_result"
    }
   ],
   "source": [
    "pretrained.most_similar(['rate'])"
   ]
  },
  {
   "cell_type": "code",
   "execution_count": 144,
   "metadata": {},
   "outputs": [
    {
     "data": {
      "text/plain": [
       "[('feature', 0.5912576913833618),\n",
       " ('foremost', 0.5568559765815735),\n",
       " ('grade', 0.5476285219192505),\n",
       " ('rated', 0.5365808010101318),\n",
       " ('suck', 0.5346225500106812),\n",
       " ('glance', 0.5031107068061829),\n",
       " ('recommend', 0.49670708179473877),\n",
       " ('give', 0.4915865361690521),\n",
       " ('rank', 0.48843464255332947),\n",
       " ('avoid', 0.47730809450149536)]"
      ]
     },
     "execution_count": 144,
     "metadata": {},
     "output_type": "execute_result"
    }
   ],
   "source": [
    "custom.most_similar(['rate'])"
   ]
  },
  {
   "cell_type": "code",
   "execution_count": 7,
   "metadata": {},
   "outputs": [
    {
     "data": {
      "text/plain": [
       "[('telephone', 0.9113394021987915),\n",
       " ('cellphone', 0.8122149705886841),\n",
       " ('phones', 0.8030568361282349),\n",
       " ('mobile', 0.730746328830719),\n",
       " ('mail', 0.7292180061340332),\n",
       " ('internet', 0.7269454002380371),\n",
       " ('messages', 0.7129441499710083),\n",
       " ('wireless', 0.7091723680496216),\n",
       " ('telephones', 0.7049247622489929),\n",
       " ('cellular', 0.6969102621078491)]"
      ]
     },
     "execution_count": 7,
     "metadata": {},
     "output_type": "execute_result"
    }
   ],
   "source": [
    "pretrained.most_similar(['phone'])"
   ]
  },
  {
   "cell_type": "code",
   "execution_count": 6,
   "metadata": {},
   "outputs": [
    {
     "data": {
      "text/plain": [
       "[('coffee', 0.6591180562973022),\n",
       " ('bus', 0.6589465141296387),\n",
       " ('table', 0.6388458013534546),\n",
       " ('plane', 0.6384596824645996),\n",
       " ('accidentally', 0.6371499300003052),\n",
       " ('cell', 0.6335462331771851),\n",
       " ('truck', 0.6327635049819946),\n",
       " ('bathroom', 0.6303887367248535),\n",
       " ('bike', 0.6227496862411499),\n",
       " ('gas', 0.6225556135177612)]"
      ]
     },
     "execution_count": 6,
     "metadata": {},
     "output_type": "execute_result"
    }
   ],
   "source": [
    "custom.most_similar(['phone'])"
   ]
  },
  {
   "cell_type": "code",
   "execution_count": 6,
   "metadata": {},
   "outputs": [
    {
     "data": {
      "text/plain": [
       "[]"
      ]
     },
     "execution_count": 6,
     "metadata": {},
     "output_type": "execute_result"
    }
   ],
   "source": [
    "custom.closer_than('man', 'woman')"
   ]
  },
  {
   "cell_type": "code",
   "execution_count": 7,
   "metadata": {},
   "outputs": [
    {
     "data": {
      "text/plain": [
       "[]"
      ]
     },
     "execution_count": 7,
     "metadata": {},
     "output_type": "execute_result"
    }
   ],
   "source": [
    "pretrained.closer_than('man', 'woman')"
   ]
  },
  {
   "cell_type": "code",
   "execution_count": 13,
   "metadata": {},
   "outputs": [
    {
     "data": {
      "text/plain": [
       "'best'"
      ]
     },
     "execution_count": 13,
     "metadata": {},
     "output_type": "execute_result"
    }
   ],
   "source": [
    "pretrained.doesnt_match('best great recommand like'.split())"
   ]
  },
  {
   "cell_type": "code",
   "execution_count": 12,
   "metadata": {},
   "outputs": [
    {
     "data": {
      "text/plain": [
       "'like'"
      ]
     },
     "execution_count": 12,
     "metadata": {},
     "output_type": "execute_result"
    }
   ],
   "source": [
    "custom.doesnt_match('best great recommand like'.split())"
   ]
  },
  {
   "cell_type": "code",
   "execution_count": 9,
   "metadata": {},
   "outputs": [
    {
     "data": {
      "text/plain": [
       "1885"
      ]
     },
     "execution_count": 9,
     "metadata": {},
     "output_type": "execute_result"
    }
   ],
   "source": [
    "pretrained.rank('phone', 'bathroom' )"
   ]
  },
  {
   "cell_type": "code",
   "execution_count": 8,
   "metadata": {},
   "outputs": [
    {
     "data": {
      "text/plain": [
       "8"
      ]
     },
     "execution_count": 8,
     "metadata": {},
     "output_type": "execute_result"
    }
   ],
   "source": [
    "custom.rank('phone', 'bathroom' )"
   ]
  },
  {
   "cell_type": "markdown",
   "metadata": {},
   "source": [
    "# Compare features for reviews"
   ]
  },
  {
   "cell_type": "code",
   "execution_count": 10,
   "metadata": {},
   "outputs": [],
   "source": [
    "#Delete word embeddings to reduce memory overhead\n",
    "pretrained = None\n",
    "custom = None\n",
    "\n",
    "indices, reviews, labels = utils.get_training_data(data_dir)\n",
    "\n",
    "reviews_features_sparse = pickle.load(open('reviews_features_sparse.pkl', 'rb'))\n",
    "reviews_features_dense_pretrained = pickle.load(open('reviews_features_dense_pretrained.pkl', 'rb'))\n",
    "reviews_features_dense_custom = pickle.load(open('reviews_features_dense_custom.pkl', 'rb'))\n",
    "\n",
    "num_neighs = 5\n",
    "metric = 'cosine'\n",
    "nbrs_sparse = NearestNeighbors(n_neighbors=num_neighs, algorithm='auto', metric=metric).fit(reviews_features_sparse)\n",
    "nbrs_pretrained = NearestNeighbors(n_neighbors=num_neighs, algorithm='auto', metric=metric).fit(reviews_features_dense_pretrained)\n",
    "nbrs_custom = NearestNeighbors(n_neighbors=num_neighs, algorithm='auto', metric=metric).fit(reviews_features_dense_custom)"
   ]
  },
  {
   "cell_type": "code",
   "execution_count": 23,
   "metadata": {},
   "outputs": [
    {
     "name": "stdout",
     "output_type": "stream",
     "text": [
      "I wasn't sure what to expect but am I glad I went to see this. A smart, slightly twisted comedy that makes you think. I wasn't quite sure how a director can create \"nothing\", but leave it to Mr. Natali and the brilliant individuals at C.O.R.E. to create another low budget set that looks real (as real as nothing can be). Well worth your time and money, if you have the opportunity to see this, please go. You'll be glad you did.\n",
      "Sentiment:  1\n",
      "\n",
      "Nearest neighbors\n",
      "I was glad to watch this movie free of charge as I am working in the hotel industry and this movie came lately to our movie library. Nothing against low budget movies, but this movie has horrible acting and directing. How can a movie as this one ever be made. The director should be blacklisted, and for all the poor actors, it is for sure not a jumping board into a career. Please make sure that you'll not watch this movie, the acting is lame, the camera and directing awful. There are just a few more movies out there which deserve to be called the \"LOW 10\". Another example would be \"Dracula 3000\". People who make money with this movie should give it to charity, so at least it serves for a good reason. <br /><br />In this case I would watch it even another 10 (or at least one more time).\n",
      "Sentiment: 0\n",
      "Distance: 0.7362415576265926\n",
      "\n",
      "(David H. Steinberg)'s script seemed initially having some real smart points that could've made good romantic comedy, BUT BUT BUT, oh dear ! What did ever happen in the way ???!!!! <br /><br />I'll tell you what happened. Originally it's (Animal House - 1978) and (Porky's - 1982). Although that was long time ago, but those are the pioneers, the godfathers of the new genre : the crude teen comedy. Then the 1990s came. After important instances that became smash hits (repulsive ones am I add) such as (Problem Child - 1990), (Dumb and Dumber - 1994), (The Nutty Professor - 1996), and (There's Something About Mary - 1998) which I think slackers is affected by, there was the top of the era and the prophet of the next era, the one and only : (American Pie - 1999) which's undoubtedly and incomparably a genre's icon. After that I think every comedy of that kind got to be that highly filthy, cum laude nasty, to be admired by the youth otherwise it might be out of fashion !<br /><br />I believe that (Slackers) had a smart plot first as a script, then its makers got to add some real big amount of : rudeness, filthiness, strangely shameless sex to be made - at those days - as easy as pie ! Like they had to fill every scene with freely elements such as : masturbation, oral sex, urination.. etc just to look a la' mode. They're wholly unnecessary elements to the story but surely THEY ARE so necessary to make the profits, and to catch the latest vogue in making teen comedies. The problem is in how all of that has replaced already any possible comedy in it.<br /><br />Some of its moments looked literally horrible, and that as you see is the point. It's all in (Jason Schwartzman)'s looks and performance; memorably disgusting to the utmost. So the ambition transformed from being that romantic comedy into making what wasn't done before of pure skinning images. To be more like a horror where you're asking all the time; what nastier would happen ? (vomiting, farting,.. etc); these are the easiest combination to create a comedy nowadays.<br /><br />Though even if you hated it you've got to love something (mostly for being bold), for me it was only Gina Gershon cameo's scene. Anyhow they designed it as a whole to achieve being outrages-for-outrageousness, like an adolescent's naughty dream. Though the majority of it was near to anybody's nightmare.<br /><br />What made me sad is that this one at its core was a real potential work, and not another cheap, another stupid comedy as it eventually managed to be. Remember well the details of stealing the exam (the first 2 minutes), so the movie's main plot (weirdo trying to reach a girl by blackmailing cool guys) through the pattern of (boy loves girl, and girl loves another boy) because save that, it's nothing but a candidly schlock. It dealt with its material the tacky way bunch of dirty college boys, who got nothing to do but making mawkish quip out of anything, would do. It ended up as being, and I'm sorry to say it, a smiling sh*t !<br /><br />At its end it said something (can you imagine !) about how it's the time and the place too for the impostor or the slack to win, totally like this comedy itself. It sounds good ending yet for totally another better movie; which could assure my opinion about this one as smart one.. Once ! And it doesn't need much to understand that this movie's makers were the real slackers ! Maybe being stupid is a way to be smart in Hollywood, but even if.. The final result here wasn't at least witty by any sense of the word. <br /><br />P.S : Its scriptwriter (David H. Steinberg), who wrote the story of (American Pie 2) as well, has a main page at the IMDb where you'll find under the \"Additional Details\" his usual \"Plot Keywords\" which are : Sex / Vulgarity / Crude Humor /... They just forgot to write Urineing while Showering or Baring 70 Year Old Women !\n",
      "Sentiment: 0\n",
      "Distance: 0.7590040479381406\n",
      "\n",
      "I thought that this movies was a letdown I expected it to be so much better than it was. I am so glad I didn't pay to see this movie and that I didn't sit in a movie theater for this one. Where to begin on this movie, the acting in this movie was average, the humor was terrible and just the overall storyline of this movie wasn't special. I thought that this movie was suppose to be great, but it wasn't more than a cheesy waste of time. I think that the acting in this movie was terrible no of the actors in this movie had chemistry, it just wasn't there. I think that if maybe we had a different actor play Kirk than Jay Baruchel it might have been better but the entire time I watched this movie he looked high and I didn't get the feeling that he wasn't acting in this movie. Now, Alice Eve did a great job as an actress but, there was no chemistry between her and Jay. All the actors in this movie were no names and had very little affect in this movie. The humor in this movie was not funny at all, there were a few one liners in this movie that were OK but nothing worth saying to your friends that they would understand. I think that Jim Field Smith had a hard time with this because he couldn't decide if he wanted a romance or a comedy. I honestly think he needs to stick with the Burger King commercials. I think that this movie could have been better if the writers would have gone to a different director. The storyline of this movie is just like every other hot girl just OK guy love story",
      "boring I think that it would have been better if it had more originality, but what a letdown nothing. I honesty would not recommend anyone go see this movie. I think that you would have more entertainment at the dentist than at this movie. So save yourself the agony and just don't see it.\n",
      "Sentiment: 0\n",
      "Distance: 0.7720791539437764\n",
      "\n",
      "My friends and I went into this movie not knowing what to expect, but hoping for the best. When we came out, we were only slightly more informed on what the plot of the movie actually was. Though not the worst movie I've ever seen, I definitely do not recommend spending your money to see it in theaters. Maybe have a friend rent it for you (it's not even worth the rental cost, either) if you really want to see it.<br /><br />When a movie is so convoluted that you have no idea what's going on until the last five minutes, there's really not much that can be said in its defense. The acting was decent, more than you'd expect to get from this movie, and some of the shots were good, but it was all bogged down by a lame plot and poor script.<br /><br />This movie was actually so bad that as soon as it got out, I went and purchased a ticket to see a good movie just to cleanse my mind. I recommend that all of you just skip the first step and go see a good movie instead.\n",
      "Sentiment: 0\n",
      "Distance: 0.7722773622749031\n",
      "\n"
     ]
    }
   ],
   "source": [
    "idx = 150 #Try changing this to see nearest neighbors for different reviews\n",
    "\n",
    "#See nearest neighbors for sparse features\n",
    "print(reviews[idx])\n",
    "print(\"Sentiment: \", labels[idx])\n",
    "distances, indices = nbrs_sparse.kneighbors(reviews_features_sparse[idx])\n",
    "print(\"\\nNearest neighbors\")\n",
    "for index, distance in zip(indices[0][1:], distances[0][1:]):\n",
    "    print(reviews[index])\n",
    "    print(\"Sentiment:\", labels[index])\n",
    "    print(\"Distance:\", distance)\n",
    "    print()"
   ]
  },
  {
   "cell_type": "code",
   "execution_count": 27,
   "metadata": {},
   "outputs": [
    {
     "name": "stdout",
     "output_type": "stream",
     "text": [
      "I wasn't sure what to expect but am I glad I went to see this. A smart, slightly twisted comedy that makes you think. I wasn't quite sure how a director can create \"nothing\", but leave it to Mr. Natali and the brilliant individuals at C.O.R.E. to create another low budget set that looks real (as real as nothing can be). Well worth your time and money, if you have the opportunity to see this, please go. You'll be glad you did.\n",
      "Sentiment:  1\n",
      "\n",
      "Nearest neighbors\n",
      "I loved this show so much and I'm so incredibly sad its canceled i thought it came back too, but just two stupid weeks. Thats terrible. i hate how we never find out how everyone ends up. it sucks. Bring it back! ABC has stupid shows like Supernanny and whatnot but doesn't give time to good ones like Six Degrees. If they're complaining about ratings it was probably because they had a bad slot because this was truly a good show, something I could relate to and anticipated. JJ Abrams delivered, he's awesome, I wish ABC could just trust him enough to complete the story. I loved the entire cast too. I couldn't wait to see how everyone would someday meet each other at once. Everyone's story is now left incomplete, now I'll never know if Steven and Whitney would get together or Carlos and Mae. I wanted to see what would happen to Laura or Damien and everyone else. This is really such a downer.\n",
      "Sentiment: 1\n",
      "Distance: 0.009362757\n",
      "\n",
      "Personally I think this show looks pretty cheaply made. Some of the actors are terrible. They over do it & seem fake. I can always tell how it's going to end within the first 10 minutes or less of watching because they make it so transparently clear. It's not very well written either. I love to watch it to laugh at it. You know the saying \"It's so bad that it's good?\" Well, that saying applies to this show. I also like to watch just to see if I'm right when I guess how it's all going to end. So far I've been right every time. It's like a little game that I play. It's nice when you are bored & you feel like laughing at something.\n",
      "Sentiment: 0\n",
      "Distance: 0.009364784\n",
      "\n",
      "I really didn't have high expectations and I must admit that I wasn't disappointed. This movie is so terrible that I felt obligated to register an account here at IMDb just to warn others not to waste their time. The storyline is terrible and you keep asking yourself throughout the movie \"can it get any worse?\" YES, it can! somehow they manage to make it worst by every minute and you end up thinking \"I want my 1 hour 35 minutes back!\". Somebody got to pay for this! <br /><br />I dare you to find a movie which is worst that this...<br /><br />I really didn't have high expectations and I must admit that I wasn't disappointed. This movie is so terrible that I felt obligated to register an account here at IMDb just to warn others not to waste their time. The storyline is terrible and you keep asking yourself throughout the movie \"can it get any worse?\" YES, it can! somehow they manage to make it worst by every minute and you end up thinking \"I want my 1 hour 35 minutes back!\". Somebody got to pay for this! <br /><br />I dare you to find a movie which is worst that this...\n",
      "Sentiment: 0\n",
      "Distance: 0.009494901\n",
      "\n",
      "If you've ever seen this movie, you'd know that it! If you haven't, and want to see a classic BAD movie, I suggest you see this movie, because it ranks right down with the worst. So, if you're REALLY bored, go rent it. If you want to know what it's like, here's my little summary: Adam Sandler is hired to work on a giant cruise ship with some Ms Universe models and five other people. Adam doesn't like how one passenger is getting all the babes, and he tries to take over with the cheezy jokes. BUT WAIT! It only gets worse! You'll have to rent the movie yourself to see how bad it truly is.\n",
      "Sentiment: 0\n",
      "Distance: 0.010224521\n",
      "\n"
     ]
    }
   ],
   "source": [
    "#See nearest neighbors for dense pretrained features\n",
    "print(reviews[idx])\n",
    "print(\"Sentiment: \", labels[idx])\n",
    "distances, indices = nbrs_pretrained.kneighbors([reviews_features_dense_pretrained[idx]])\n",
    "print(\"\\nNearest neighbors\")\n",
    "for index, distance in zip(indices[0][1:], distances[0][1:]):\n",
    "    print(reviews[index])\n",
    "    print(\"Sentiment:\", labels[index])\n",
    "    print(\"Distance:\", distance)\n",
    "    print()"
   ]
  },
  {
   "cell_type": "code",
   "execution_count": 28,
   "metadata": {},
   "outputs": [
    {
     "name": "stdout",
     "output_type": "stream",
     "text": [
      "I wasn't sure what to expect but am I glad I went to see this. A smart, slightly twisted comedy that makes you think. I wasn't quite sure how a director can create \"nothing\", but leave it to Mr. Natali and the brilliant individuals at C.O.R.E. to create another low budget set that looks real (as real as nothing can be). Well worth your time and money, if you have the opportunity to see this, please go. You'll be glad you did.\n",
      "Sentiment:  1\n",
      "\n",
      "Nearest neighbors\n",
      "I liked it, i really did. Please don't think that i'm an idiot but i have to admit that i enjoyed this film. I expected it to be crap, it was crap, but sometimes its OK to relax and watch a crappy film that you don't have to concentrate too much on isn't it? I didn't expect any hidden meanings or morales, and there wasn't any, but that doesn't matter because i only watched it for entertainment, and it did entertain me throughout. Films like this are why the Ben Stillers (excusing 'there's something about Mary') and the Vince Vaughns (however you spell his last name, i couldn't be bothered checking)have jobs. It's OK to watch a crap film as long as you don't expect too much from it, and i for one shall take a stand, jog, perhaps run, but not drive because i don't have a car, to Blockbuster Video, or even Choices, and rent a bunch of these toilet humoured films and stay in one night watching them. Good day to you reader. P.s if you do not say that this comment helped you then i don't like you, if you do say it helped then god bless you, you will go to heaven.\n",
      "Sentiment: 0\n",
      "Distance: 0.056955338\n",
      "\n",
      "Even for the cocaine laced 1980's this is a pathetic. I don't understand why someone would want to waste celluloid, time, effort, money, and audience brain cells to make such drivel. If your going to make a comedy, make it funny. If you want to film trash like this keep it to yourself. If you're going to release it as a joke like this: DON'T!!! I mean, it was a joke right? Someone please tell me this was a joke. please.\n",
      "Sentiment: 0\n",
      "Distance: 0.059855938\n",
      "\n",
      "Writing something genuine and true is challenging. Knowing how to shoot it and putting it together without making it trivial is even better. Ishai Setton's movie is one of those where you can recognize Life in all its simplicity and beauty. I have been touched by \"The big bad Swim\" and from now on, I will promote it as far as I can. It is just a shame that I can't have something to show to my friends (you know, such as a DVD???), because talking is good...but giving something to see is better. Everyone can't go to festivals to discover pearls like that and this movie's really worth to be put out there! A big THANK YOU to the staff of this master piece, and I am waiting for it to be distributed.\n",
      "Sentiment: 1\n",
      "Distance: 0.06254554\n",
      "\n",
      "You can never have seen either film and still know that The Jerk Too is a disaster. The question is not, \"How did it get made,\" because if you throw money at anyone and tell them to make a film, they will do so.<br /><br />No. The question is \"Why, oh why, did Steve Martin allow it to be made?\" I think he needed the money to fight a nuisance lawsuit and was determined it not cost him anything. He knew the sequel was going to be so frightful, that out of pride, he wouldn't even count it's royalties as income. <br /><br />The only way this sequel could not be an embarrassment is to have had Carl Gottlieb and Steve Martin revive the nation's favorite poor black family.<br /><br />And \"dcreasy2001\" (aka Mark Blankfield?): It's just transparently obvious that you worked on this film in some sad capacity, and the only way you can feel better about your involvement is to be the sequel's lone cheerleader as an IMDb user comment. I was praying for you to veer over into satire, but alas, you were really making an effort at spin. Why not 10 stars?\n",
      "Sentiment: 0\n",
      "Distance: 0.06279957\n",
      "\n"
     ]
    }
   ],
   "source": [
    "#See nearest neighbors for dense custom features\n",
    "print(reviews[idx])\n",
    "print(\"Sentiment: \", labels[idx])\n",
    "distances, indices = nbrs_custom.kneighbors([reviews_features_dense_custom[idx]])\n",
    "print(\"\\nNearest neighbors\")\n",
    "for index, distance in zip(indices[0][1:], distances[0][1:]):\n",
    "    print(reviews[index])\n",
    "    print(\"Sentiment:\", labels[index])\n",
    "    print(\"Distance:\", distance)\n",
    "    print()"
   ]
  }
 ],
 "metadata": {
  "kernelspec": {
   "display_name": "Python 3",
   "language": "python",
   "name": "python3"
  },
  "language_info": {
   "codemirror_mode": {
    "name": "ipython",
    "version": 3
   },
   "file_extension": ".py",
   "mimetype": "text/x-python",
   "name": "python",
   "nbconvert_exporter": "python",
   "pygments_lexer": "ipython3",
   "version": "3.6.4"
  }
 },
 "nbformat": 4,
 "nbformat_minor": 2
}

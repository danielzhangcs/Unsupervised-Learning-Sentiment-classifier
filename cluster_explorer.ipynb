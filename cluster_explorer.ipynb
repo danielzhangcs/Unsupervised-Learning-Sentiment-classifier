{
 "cells": [
  {
   "cell_type": "markdown",
   "metadata": {},
   "source": [
    "# Explore your predicted clusters"
   ]
  },
  {
   "cell_type": "markdown",
   "metadata": {},
   "source": [
    "## Import packages and set input dir path"
   ]
  },
  {
   "cell_type": "code",
   "execution_count": 1,
   "metadata": {},
   "outputs": [],
   "source": [
    "import collections\n",
    "import csv\n",
    "import numpy as np\n",
    "import os\n",
    "from IPython.core.display import display, HTML\n",
    "from nltk.corpus import stopwords\n",
    "import nltk"
   ]
  },
  {
   "cell_type": "code",
   "execution_count": 2,
   "metadata": {},
   "outputs": [],
   "source": [
    "# Change this if necessary\n",
    "input_dir_path = './'\n",
    "data_dir_path = 'data/'"
   ]
  },
  {
   "cell_type": "markdown",
   "metadata": {},
   "source": [
    "## Read clustering files produced by clustering.py"
   ]
  },
  {
   "cell_type": "code",
   "execution_count": 3,
   "metadata": {},
   "outputs": [],
   "source": [
    "def read_clustering_files(dir_path, suffix='_clusters.csv'):\n",
    "    pretrained_clustering_file_path = os.path.join(dir_path, 'pretrained' + suffix)\n",
    "    custom_clustering_file_path = os.path.join(dir_path, 'custom' + suffix)\n",
    "    sparse_clustering_file_path = os.path.join(dir_path, 'sparse' + suffix)\n",
    "    return np.loadtxt(pretrained_clustering_file_path, delimiter=',', dtype=int), np.loadtxt(custom_clustering_file_path, delimiter=',', dtype=int), np.loadtxt(sparse_clustering_file_path, delimiter=',', dtype=int)"
   ]
  },
  {
   "cell_type": "code",
   "execution_count": 200,
   "metadata": {},
   "outputs": [
    {
     "name": "stdout",
     "output_type": "stream",
     "text": [
      "Review ID range: 12500 - 24999\n"
     ]
    }
   ],
   "source": [
    "pretrained_clusters, custom_clusters, sparse_clusters = read_clustering_files(input_dir_path)\n",
    "print('Review ID range:', np.min(pretrained_clusters[:, 0]), '-', np.max(pretrained_clusters[:, 0]))"
   ]
  },
  {
   "cell_type": "markdown",
   "metadata": {},
   "source": [
    "## Leverage useful functions for your analysis"
   ]
  },
  {
   "cell_type": "code",
   "execution_count": 217,
   "metadata": {},
   "outputs": [],
   "source": [
    "def clusters_by_cid(cid, clusters):\n",
    "    # returns set of review ids which were in cluster cid\n",
    "    return clusters[clusters[:, 1] == cid, 0]\n",
    "\n",
    "\n",
    "def clusters_by_rid(rid, clusters):\n",
    "    # returns set of review ids that are in the same cluster as review rid\n",
    "    cid = clusters[rid][1]\n",
    "    return clusters_by_cid(cid, clusters)\n",
    "\n",
    "\n",
    "def get_htm_text(rid, data_dir_path):\n",
    "    # return the html text of the review\n",
    "    with open(os.path.join(data_dir_path, 'train', str(rid) + '.txt'), 'r') as fp:\n",
    "        return HTML(*fp.readlines())"
   ]
  },
  {
   "cell_type": "code",
   "execution_count": 40,
   "metadata": {},
   "outputs": [],
   "source": [
    "def get_html_text(rid, data_dir_path):\n",
    "    # return the html text of the review\n",
    "    with open(os.path.join(data_dir_path, 'train', str(rid) + '.txt'), 'r') as reviewfile:\n",
    "        return reviewfile.read()"
   ]
  },
  {
   "cell_type": "markdown",
   "metadata": {},
   "source": [
    "### Example 1: extract review IDs whose predicted cluster IDs = 0"
   ]
  },
  {
   "cell_type": "code",
   "execution_count": 222,
   "metadata": {},
   "outputs": [
    {
     "data": {
      "text/plain": [
       "array([12503, 12509, 12540, 12551, 12552, 12565, 12580, 12602, 12614,\n",
       "       12659, 12673, 12679, 12680, 12691, 12696, 12697, 12705, 12722,\n",
       "       12734, 12738, 12740, 12742, 12746, 12770, 12784, 12824, 12826,\n",
       "       12834, 12850, 12874, 12879, 12906, 12908, 12911, 12931, 12936,\n",
       "       12937, 12944, 12945, 12951, 12956, 12965, 12969, 12975, 12997,\n",
       "       13000, 13005, 13035, 13038, 13059, 13062, 13065, 13071, 13078,\n",
       "       13081, 13084, 13095, 13115, 13124, 13127, 13129, 13144, 13157,\n",
       "       13164, 13221, 13222, 13224, 13235, 13260, 13269, 13283, 13299,\n",
       "       13313, 13318, 13322, 13329, 13335, 13354, 13358, 13363, 13376,\n",
       "       13377, 13394, 13399, 13402, 13403, 13409, 13413, 13433, 13441,\n",
       "       13444, 13445, 13451, 13473, 13527, 13535, 13546, 13547, 13571,\n",
       "       13577, 13582, 13595, 13604, 13605, 13622, 13625, 13659, 13661,\n",
       "       13665, 13696, 13714, 13726, 13730, 13741, 13747, 13750, 13751,\n",
       "       13772, 13795, 13829, 13855, 13866, 13874, 13885, 13901, 13928,\n",
       "       13940, 13943, 13956, 13961, 13968, 13989, 14016, 14019, 14022,\n",
       "       14026, 14043, 14046, 14057, 14058, 14064, 14067, 14084, 14131,\n",
       "       14137, 14149, 14158, 14187, 14208, 14246, 14247, 14256, 14294,\n",
       "       14330, 14344, 14361, 14363, 14367, 14370, 14372, 14379, 14381,\n",
       "       14392, 14413, 14416, 14443, 14473, 14484, 14485, 14491, 14536,\n",
       "       14541, 14542, 14545, 14567, 14573, 14594, 14605, 14608, 14611,\n",
       "       14655, 14690, 14729, 14740, 14763, 14779, 14801, 14806, 14814,\n",
       "       14842, 14865, 14891, 14896, 14926, 14932, 14949, 14963, 14968,\n",
       "       14988, 15019, 15037, 15046, 15062, 15071, 15080, 15089, 15117,\n",
       "       15118, 15178, 15181, 15191, 15269, 15284, 15290, 15293, 15318,\n",
       "       15343, 15345, 15355, 15361, 15370, 15377, 15380, 15386, 15387,\n",
       "       15392, 15403, 15405, 15406, 15428, 15439, 15440, 15460, 15474,\n",
       "       15476, 15488, 15494, 15529, 15534, 15550, 15552, 15570, 15574,\n",
       "       15615, 15650, 15667, 15676, 15682, 15689, 15712, 15718, 15724,\n",
       "       15726, 15737, 15747, 15762, 15764, 15775, 15780, 15783, 15798,\n",
       "       15807, 15808, 15830, 15872, 15883, 15884, 15913, 15920, 15924,\n",
       "       15937, 15952, 15996, 16004, 16019, 16021, 16030, 16045, 16055,\n",
       "       16077, 16079, 16100, 16108, 16116, 16131, 16136, 16137, 16147,\n",
       "       16175, 16193, 16203, 16206, 16209, 16236, 16238, 16276, 16278,\n",
       "       16279, 16292, 16319, 16331, 16332, 16338, 16357, 16362, 16371,\n",
       "       16384, 16405, 16414, 16425, 16451, 16460, 16465, 16479, 16486,\n",
       "       16495, 16513, 16516, 16525, 16573, 16606, 16613, 16650, 16665,\n",
       "       16671, 16676, 16681, 16698, 16713, 16714, 16719, 16735, 16749,\n",
       "       16753, 16755, 16773, 16775, 16777, 16801, 16807, 16831, 16833,\n",
       "       16837, 16857, 16864, 16872, 16890, 16895, 16926, 16935, 16939,\n",
       "       16971, 16978, 16987, 16995, 16996, 17004, 17008, 17010, 17017,\n",
       "       17054, 17057, 17081, 17082, 17104, 17122, 17124, 17156, 17157,\n",
       "       17167, 17185, 17222, 17225, 17226, 17228, 17232, 17234, 17236,\n",
       "       17264, 17288, 17301, 17316, 17318, 17331, 17335, 17353, 17354,\n",
       "       17365, 17374, 17396, 17427, 17442, 17445, 17449, 17451, 17453,\n",
       "       17467, 17509, 17513, 17524, 17534, 17558, 17564, 17590, 17596,\n",
       "       17649, 17651, 17660, 17663, 17665, 17676, 17678, 17696, 17701,\n",
       "       17706, 17722, 17725, 17729, 17736, 17745, 17750, 17756, 17765,\n",
       "       17787, 17792, 17798, 17801, 17848, 17867, 17876, 17895, 17903,\n",
       "       17905, 17907, 17944, 17953, 17980, 17998, 18009, 18022, 18028,\n",
       "       18034, 18041, 18045, 18071, 18082, 18088, 18093, 18165, 18198,\n",
       "       18222, 18226, 18236, 18245, 18250, 18290, 18345, 18364, 18414,\n",
       "       18440, 18441, 18451, 18460, 18467, 18478, 18479, 18482, 18510,\n",
       "       18540, 18558, 18561, 18572, 18579, 18584, 18599, 18602, 18605,\n",
       "       18621, 18634, 18639, 18644, 18665, 18666, 18673, 18679, 18703,\n",
       "       18704, 18708, 18720, 18730, 18744, 18758, 18771, 18778, 18789,\n",
       "       18798, 18802, 18812, 18859, 18875, 18881, 18889, 18895, 18904,\n",
       "       18908, 18926, 18928, 18943, 18955, 18962, 18977, 18983, 18996,\n",
       "       18998, 19016, 19032, 19040, 19058, 19059, 19062, 19077, 19140,\n",
       "       19150, 19174, 19187, 19190, 19200, 19213, 19219, 19226, 19232,\n",
       "       19236, 19246, 19250, 19263, 19285, 19286, 19291, 19323, 19327,\n",
       "       19342, 19346, 19379, 19394, 19403, 19405, 19412, 19432, 19449,\n",
       "       19459, 19466, 19503, 19520, 19528, 19585, 19613, 19614, 19618,\n",
       "       19622, 19654, 19672, 19680, 19689, 19703, 19708, 19714, 19716,\n",
       "       19720, 19727, 19771, 19853, 19867, 19869, 19891, 19892, 19899,\n",
       "       19900, 19909, 19910, 19928, 19932, 19938, 19945, 19962, 19968,\n",
       "       19975, 19994, 20009, 20011, 20025, 20041, 20072, 20075, 20097,\n",
       "       20122, 20124, 20127, 20130, 20152, 20169, 20181, 20183, 20198,\n",
       "       20222, 20229, 20234, 20236, 20251, 20254, 20256, 20276, 20278,\n",
       "       20284, 20288, 20297, 20299, 20301, 20302, 20320, 20330, 20347,\n",
       "       20352, 20355, 20357, 20362, 20368, 20414, 20448, 20452, 20453,\n",
       "       20455, 20467, 20485, 20501, 20524, 20525, 20555, 20562, 20569,\n",
       "       20580, 20581, 20591, 20618, 20621, 20657, 20666, 20706, 20722,\n",
       "       20733, 20790, 20831, 20833, 20845, 20847, 20886, 20894, 20900,\n",
       "       20918, 20927, 20955, 20966, 21004, 21013, 21018, 21019, 21032,\n",
       "       21048, 21061, 21063, 21067, 21074, 21079, 21085, 21105, 21128,\n",
       "       21155, 21233, 21243, 21261, 21275, 21278, 21280, 21330, 21335,\n",
       "       21369, 21382, 21396, 21398, 21434, 21447, 21452, 21466, 21468,\n",
       "       21479, 21487, 21490, 21502, 21523, 21532, 21546, 21553, 21554,\n",
       "       21560, 21561, 21581, 21584, 21588, 21600, 21636, 21685, 21686,\n",
       "       21688, 21701, 21709, 21731, 21746, 21750, 21761, 21764, 21766,\n",
       "       21768, 21771, 21782, 21783, 21792, 21796, 21798, 21806, 21811,\n",
       "       21812, 21815, 21838, 21900, 21917, 21929, 21933, 21953, 21989,\n",
       "       21997, 22003, 22017, 22027, 22057, 22085, 22086, 22087, 22090,\n",
       "       22118, 22119, 22121, 22125, 22142, 22149, 22150, 22164, 22166,\n",
       "       22169, 22173, 22179, 22180, 22181, 22185, 22229, 22238, 22251,\n",
       "       22263, 22264, 22281, 22297, 22300, 22326, 22358, 22368, 22370,\n",
       "       22398, 22408, 22409, 22421, 22446, 22474, 22479, 22483, 22516,\n",
       "       22519, 22525, 22528, 22540, 22543, 22546, 22576, 22588, 22596,\n",
       "       22597, 22598, 22605, 22621, 22636, 22642, 22671, 22686, 22709,\n",
       "       22716, 22727, 22730, 22744, 22749, 22764, 22770, 22774, 22783,\n",
       "       22797, 22799, 22803, 22819, 22828, 22855, 22874, 22876, 22881,\n",
       "       22893, 22917, 22932, 22941, 22968, 22976, 22988, 22992, 23004,\n",
       "       23039, 23057, 23069, 23118, 23120, 23124, 23135, 23140, 23148,\n",
       "       23151, 23155, 23161, 23167, 23170, 23171, 23173, 23198, 23201,\n",
       "       23212, 23222, 23224, 23243, 23263, 23264, 23268, 23278, 23279,\n",
       "       23282, 23287, 23334, 23339, 23367, 23389, 23404, 23421, 23477,\n",
       "       23479, 23491, 23502, 23506, 23515, 23532, 23549, 23557, 23570,\n",
       "       23571, 23584, 23593, 23605, 23615, 23619, 23623, 23631, 23635,\n",
       "       23638, 23654, 23669, 23670, 23685, 23688, 23693, 23706, 23713,\n",
       "       23723, 23725, 23730, 23734, 23744, 23751, 23753, 23757, 23762,\n",
       "       23768, 23799, 23802, 23829, 23855, 23858, 23865, 23952, 23960,\n",
       "       23965, 23977, 23980, 23986, 23993, 24006, 24008, 24036, 24041,\n",
       "       24044, 24047, 24048, 24055, 24101, 24106, 24113, 24117, 24138,\n",
       "       24143, 24145, 24161, 24163, 24164, 24213, 24220, 24230, 24245,\n",
       "       24252, 24266, 24268, 24275, 24280, 24302, 24332, 24333, 24352,\n",
       "       24374, 24397, 24404, 24408, 24411, 24435, 24481, 24483, 24515,\n",
       "       24523, 24529, 24531, 24541, 24545, 24551, 24576, 24578, 24585,\n",
       "       24588, 24602, 24605, 24621, 24623, 24646, 24654, 24661, 24663,\n",
       "       24678, 24691, 24692, 24705, 24741, 24751, 24766, 24778, 24779,\n",
       "       24786, 24820, 24822, 24846, 24872, 24878, 24880, 24885, 24888,\n",
       "       24890, 24899, 24918, 24963, 24967, 24971, 24985])"
      ]
     },
     "execution_count": 222,
     "metadata": {},
     "output_type": "execute_result"
    }
   ],
   "source": [
    "extracted_review_ids1 = clusters_by_cid(4, pretrained_clusters) #4，8\n",
    "extracted_review_ids1"
   ]
  },
  {
   "cell_type": "code",
   "execution_count": 223,
   "metadata": {},
   "outputs": [
    {
     "data": {
      "image/png": "[encoded data removed]",
      "text/plain": [
       "<matplotlib.figure.Figure at 0x1a18106438>"
      ]
     },
     "metadata": {},
     "output_type": "display_data"
    }
   ],
   "source": [
    "for i in extracted_review_ids1:\n",
    "    Bose=[]\n",
    "    \n",
    "    html_text=get_html_text(i, data_dir_path)\n",
    "    Bose.append(html_text)\n",
    "\n",
    "stop = set(stopwords.words('english'))\n",
    "new = [i for i in str(Bose).lower().split() if i not in stop and i.isalpha() ]\n",
    "Freq_dist_nltk=nltk.FreqDist(new)\n",
    "Freq_dist_nltk.plot(30,cumulative = False)\n",
    "\n",
    "\n",
    "    "
   ]
  },
  {
   "cell_type": "code",
   "execution_count": 239,
   "metadata": {
    "scrolled": true
   },
   "outputs": [
    {
     "data": {
      "text/html": [
       "A suspenseful thriller that bears some resemblance to Deliverance as for scenery and setting. There are also some very innovatively shot scenes and good music, although the daftness and sometimes seemingly careless attitude of one of the characters is unfitting to the situation, although this is not a mayor problem. It also poses interesting questions about justness of revenge and limits of friendship.<br /><br />"
      ],
      "text/plain": [
       "<IPython.core.display.HTML object>"
      ]
     },
     "execution_count": 239,
     "metadata": {},
     "output_type": "execute_result"
    }
   ],
   "source": [
    "get_htm_text(19236, data_dir_path) # 12944, 14187, "
   ]
  },
  {
   "cell_type": "code",
   "execution_count": 240,
   "metadata": {},
   "outputs": [
    {
     "data": {
      "text/html": [
       "Following their daughter's brutal murder,Julie and Allen escape the city to find solace and grieve in a solitary cabin on a remote mountain.Allen's intentions are good,he wants his wife to get out of her depression by resuming her photography.Julie stumbles across an ancient prison and sees the perfect creepy,decaying setting for her photography.But when the photos are developed they are full of dead people-and Allen quickly discovers the tragic history of suicide in their new mountain.\"Dark Remains\" is a pretty decent indie horror flick.It offers some genuine scares and plenty of tension.The acting is fairly good and the cinematography is great.7 out of 10."
      ],
      "text/plain": [
       "<IPython.core.display.HTML object>"
      ]
     },
     "execution_count": 240,
     "metadata": {},
     "output_type": "execute_result"
    }
   ],
   "source": [
    "get_htm_text(14187, data_dir_path)"
   ]
  },
  {
   "cell_type": "code",
   "execution_count": 247,
   "metadata": {},
   "outputs": [
    {
     "data": {
      "text/plain": [
       "array([12544, 12563, 12570, ..., 24996, 24998, 24999])"
      ]
     },
     "execution_count": 247,
     "metadata": {},
     "output_type": "execute_result"
    }
   ],
   "source": [
    "extracted_review_ids1 = clusters_by_cid(3, pretrained_clusters) #4，8\n",
    "extracted_review_ids1"
   ]
  },
  {
   "cell_type": "code",
   "execution_count": 248,
   "metadata": {},
   "outputs": [
    {
     "data": {
      "image/png": "[encoded data removed]",
      "text/plain": [
       "<matplotlib.figure.Figure at 0x1a17e02da0>"
      ]
     },
     "metadata": {},
     "output_type": "display_data"
    }
   ],
   "source": [
    "for i in extracted_review_ids1:\n",
    "    Bose=[]\n",
    "    \n",
    "    html_text=get_html_text(i, data_dir_path)\n",
    "    Bose.append(html_text)\n",
    "stop = set(stopwords.words('english'))\n",
    "new = [i for i in str(Bose).lower().split() if i not in stop and i.isalpha() ]\n",
    "Freq_dist_nltk=nltk.FreqDist(new)\n",
    "Freq_dist_nltk.plot(30,cumulative = False)"
   ]
  },
  {
   "cell_type": "code",
   "execution_count": 251,
   "metadata": {},
   "outputs": [
    {
     "data": {
      "text/html": [
       "I did not expect much from this film, but boy-o-boy, I did not expect the movie to be this bad. Chris Rock is not showing a good act here, you can't get the feeling that his caracter is real, I think the movie would have been a bit better if it's drama or romantic scenes would have been a less part of the movie and more/better humor was involved. The movie is like the film makers were having a bad hangover making it. In the \"making of\" they don't show a single smile. This is a very bad film! I gave it three out of ten because of few smiles it gave me, but I did never laugh!"
      ],
      "text/plain": [
       "<IPython.core.display.HTML object>"
      ]
     },
     "execution_count": 251,
     "metadata": {},
     "output_type": "execute_result"
    }
   ],
   "source": [
    "get_htm_text(24999, data_dir_path)  #"
   ]
  },
  {
   "cell_type": "code",
   "execution_count": 250,
   "metadata": {},
   "outputs": [
    {
     "data": {
      "text/html": [
       "Yes...I'm going with the 1-0 on this and here's why. In the last few years, I have watched quite a few comedies and only left with a few mild laughs and a couple video rental late fees because the movies were that easy to forget. Then I stumble upon \"Nothing\". Looked interesting, wasn't expecting much though. I was wrong. This was probably one of the funniest movies I have ever had the chance to watch. Dave and Andrew make a great comedic pair and the humor was catchy enough to remember, but not over complex to the point of missing the joke. I don't want to remark on any of the actual scenes, because I do feel this is a movie worth seeing for once. With more and more pointless concepts coming into movies (you know, like killer military jets and \"fresh\" remakes that are ruining old classics), This movie will make you happy to say it's OK to laugh at \"Nothing\"."
      ],
      "text/plain": [
       "<IPython.core.display.HTML object>"
      ]
     },
     "execution_count": 250,
     "metadata": {},
     "output_type": "execute_result"
    }
   ],
   "source": [
    "get_htm_text(12563, data_dir_path)  #"
   ]
  },
  {
   "cell_type": "code",
   "execution_count": 252,
   "metadata": {
    "scrolled": true
   },
   "outputs": [
    {
     "data": {
      "text/html": [
       "The \"Men in White\" movie is definitely one of the funniest, if not THE funniest, comedy movies I ever watched! (and I watched quite a lot!) It is about two garbagemen, who become \"Men in White\" and then stop an invasion from space. It is also a parody of lots of classic movies, such as \"Men in Black\", \"Star Wars\" or \"Dr. Strangelove\". Anyone who says that this movie is crappy has something wrong with his head. There are tons of funny gags and jokes here, and you might actually get injury to your mouth from laughing too hard (it happened to me!). If you can watch this movie on TV, watch it now - you certainly won't regret it!"
      ],
      "text/plain": [
       "<IPython.core.display.HTML object>"
      ]
     },
     "execution_count": 252,
     "metadata": {},
     "output_type": "execute_result"
    }
   ],
   "source": [
    "get_htm_text(24998, data_dir_path) "
   ]
  },
  {
   "cell_type": "code",
   "execution_count": null,
   "metadata": {},
   "outputs": [],
   "source": []
  },
  {
   "cell_type": "code",
   "execution_count": 253,
   "metadata": {},
   "outputs": [
    {
     "data": {
      "text/plain": [
       "array([12507, 12517, 12523, 12533, 12583, 12596, 12609, 12612, 12622,\n",
       "       12640, 12660, 12663, 12673, 12674, 12683, 12717, 12732, 12742,\n",
       "       12785, 12819, 12885, 12909, 12913, 12915, 12924, 12935, 12950,\n",
       "       12994, 13006, 13013, 13014, 13053, 13058, 13061, 13154, 13159,\n",
       "       13207, 13208, 13231, 13242, 13274, 13289, 13290, 13295, 13319,\n",
       "       13338, 13346, 13369, 13379, 13400, 13420, 13457, 13458, 13468,\n",
       "       13480, 13494, 13504, 13510, 13538, 13548, 13559, 13568, 13572,\n",
       "       13588, 13590, 13627, 13628, 13632, 13650, 13661, 13693, 13758,\n",
       "       13801, 13803, 13818, 13820, 13856, 13862, 13866, 13873, 13891,\n",
       "       13929, 13941, 13952, 13997, 14015, 14016, 14023, 14029, 14031,\n",
       "       14041, 14082, 14121, 14130, 14136, 14146, 14148, 14157, 14165,\n",
       "       14172, 14181, 14203, 14234, 14249, 14251, 14253, 14289, 14383,\n",
       "       14423, 14432, 14446, 14447, 14458, 14476, 14485, 14501, 14527,\n",
       "       14531, 14584, 14599, 14610, 14662, 14681, 14705, 14724, 14758,\n",
       "       14762, 14771, 14775, 14782, 14784, 14805, 14831, 14847, 14903,\n",
       "       14924, 14928, 14937, 14977, 14982, 14998, 15011, 15048, 15063,\n",
       "       15064, 15074, 15113, 15120, 15128, 15162, 15173, 15179, 15194,\n",
       "       15219, 15222, 15238, 15258, 15270, 15280, 15282, 15288, 15304,\n",
       "       15305, 15306, 15313, 15322, 15326, 15336, 15378, 15379, 15400,\n",
       "       15410, 15411, 15420, 15453, 15469, 15496, 15498, 15507, 15508,\n",
       "       15509, 15514, 15523, 15544, 15546, 15558, 15565, 15573, 15575,\n",
       "       15578, 15608, 15610, 15641, 15643, 15647, 15658, 15680, 15699,\n",
       "       15705, 15710, 15774, 15777, 15814, 15832, 15843, 15853, 15866,\n",
       "       15882, 15930, 15956, 15963, 15996, 16031, 16054, 16055, 16078,\n",
       "       16087, 16092, 16150, 16157, 16167, 16187, 16204, 16210, 16227,\n",
       "       16229, 16290, 16299, 16341, 16366, 16373, 16397, 16410, 16420,\n",
       "       16422, 16435, 16450, 16456, 16499, 16509, 16515, 16517, 16519,\n",
       "       16532, 16556, 16557, 16560, 16568, 16583, 16585, 16648, 16700,\n",
       "       16741, 16750, 16760, 16766, 16779, 16782, 16802, 16826, 16843,\n",
       "       16884, 16891, 16896, 16921, 16934, 16936, 16943, 16990, 17001,\n",
       "       17033, 17037, 17068, 17088, 17108, 17130, 17146, 17158, 17231,\n",
       "       17265, 17287, 17309, 17310, 17315, 17327, 17367, 17379, 17382,\n",
       "       17395, 17421, 17463, 17481, 17543, 17549, 17563, 17583, 17595,\n",
       "       17632, 17635, 17650, 17688, 17691, 17719, 17736, 17741, 17751,\n",
       "       17798, 17807, 17816, 17835, 17837, 17902, 17912, 17951, 18007,\n",
       "       18014, 18076, 18078, 18079, 18107, 18125, 18145, 18170, 18178,\n",
       "       18246, 18263, 18267, 18268, 18281, 18324, 18338, 18375, 18381,\n",
       "       18384, 18439, 18464, 18476, 18491, 18494, 18495, 18504, 18505,\n",
       "       18524, 18525, 18533, 18574, 18588, 18612, 18620, 18623, 18655,\n",
       "       18658, 18666, 18669, 18676, 18683, 18688, 18737, 18740, 18757,\n",
       "       18796, 18797, 18805, 18810, 18827, 18847, 18853, 18858, 18882,\n",
       "       18897, 18901, 18933, 18935, 18940, 18950, 18951, 18974, 18984,\n",
       "       18999, 19013, 19019, 19049, 19052, 19066, 19067, 19096, 19116,\n",
       "       19125, 19128, 19132, 19144, 19148, 19158, 19172, 19195, 19230,\n",
       "       19234, 19245, 19271, 19309, 19338, 19351, 19355, 19369, 19384,\n",
       "       19404, 19414, 19427, 19429, 19443, 19455, 19511, 19535, 19546,\n",
       "       19567, 19568, 19582, 19584, 19598, 19612, 19631, 19653, 19672,\n",
       "       19677, 19681, 19682, 19747, 19765, 19766, 19791, 19795, 19815,\n",
       "       19862, 19937, 19944, 19997, 20032, 20046, 20057, 20062, 20079,\n",
       "       20083, 20108, 20134, 20158, 20167, 20177, 20206, 20275, 20307,\n",
       "       20308, 20325, 20346, 20378, 20408, 20420, 20460, 20478, 20483,\n",
       "       20505, 20517, 20564, 20656, 20672, 20682, 20689, 20729, 20733,\n",
       "       20735, 20741, 20773, 20776, 20799, 20808, 20811, 20818, 20835,\n",
       "       20840, 20845, 20850, 20851, 20852, 20853, 20862, 20880, 20890,\n",
       "       20891, 20910, 20934, 20937, 20946, 20949, 20962, 20974, 21012,\n",
       "       21031, 21038, 21039, 21057, 21086, 21097, 21099, 21106, 21113,\n",
       "       21118, 21124, 21156, 21169, 21174, 21179, 21182, 21183, 21194,\n",
       "       21202, 21224, 21262, 21263, 21264, 21268, 21273, 21283, 21291,\n",
       "       21292, 21334, 21339, 21351, 21362, 21368, 21379, 21381, 21399,\n",
       "       21408, 21428, 21441, 21442, 21495, 21514, 21519, 21544, 21550,\n",
       "       21559, 21586, 21643, 21648, 21667, 21669, 21671, 21687, 21692,\n",
       "       21696, 21722, 21739, 21786, 21801, 21835, 21841, 21844, 21845,\n",
       "       21856, 21867, 21870, 21871, 21879, 21907, 21927, 21934, 21940,\n",
       "       21957, 21971, 21990, 21996, 22005, 22018, 22041, 22049, 22071,\n",
       "       22088, 22128, 22129, 22145, 22177, 22223, 22235, 22247, 22276,\n",
       "       22287, 22317, 22366, 22367, 22391, 22411, 22414, 22441, 22515,\n",
       "       22522, 22527, 22529, 22545, 22564, 22576, 22606, 22609, 22646,\n",
       "       22652, 22653, 22663, 22672, 22673, 22687, 22734, 22759, 22785,\n",
       "       22815, 22829, 22866, 22882, 22897, 22903, 22923, 22925, 22931,\n",
       "       22943, 22945, 22973, 22974, 23006, 23009, 23034, 23060, 23066,\n",
       "       23087, 23100, 23105, 23128, 23134, 23152, 23156, 23177, 23194,\n",
       "       23218, 23232, 23238, 23271, 23301, 23345, 23360, 23363, 23380,\n",
       "       23390, 23396, 23423, 23433, 23434, 23436, 23446, 23447, 23466,\n",
       "       23480, 23485, 23493, 23500, 23542, 23554, 23563, 23580, 23594,\n",
       "       23606, 23629, 23643, 23667, 23730, 23731, 23738, 23747, 23765,\n",
       "       23783, 23804, 23809, 23814, 23816, 23822, 23825, 23826, 23842,\n",
       "       23845, 23870, 23893, 23897, 23903, 23913, 23927, 23973, 23992,\n",
       "       24000, 24006, 24051, 24061, 24068, 24076, 24079, 24080, 24089,\n",
       "       24092, 24109, 24121, 24123, 24137, 24149, 24151, 24172, 24178,\n",
       "       24190, 24194, 24218, 24221, 24227, 24229, 24251, 24261, 24263,\n",
       "       24270, 24285, 24305, 24309, 24327, 24329, 24335, 24350, 24368,\n",
       "       24379, 24382, 24413, 24420, 24435, 24442, 24475, 24493, 24499,\n",
       "       24512, 24517, 24524, 24532, 24535, 24538, 24570, 24580, 24586,\n",
       "       24599, 24605, 24619, 24620, 24626, 24669, 24678, 24696, 24701,\n",
       "       24746, 24804, 24821, 24834, 24851, 24866, 24878, 24892, 24920,\n",
       "       24929, 24938, 24947, 24966, 24969, 24972, 24978, 24990])"
      ]
     },
     "execution_count": 253,
     "metadata": {},
     "output_type": "execute_result"
    }
   ],
   "source": [
    "extracted_review_ids2 = clusters_by_cid(11, custom_clusters) #8,11\n",
    "extracted_review_ids2"
   ]
  },
  {
   "cell_type": "code",
   "execution_count": 254,
   "metadata": {},
   "outputs": [
    {
     "data": {
      "image/png": "[encoded data removed]",
      "text/plain": [
       "<matplotlib.figure.Figure at 0x1a17d40588>"
      ]
     },
     "metadata": {},
     "output_type": "display_data"
    }
   ],
   "source": [
    "for i in extracted_review_ids2:\n",
    "    ids2=[]\n",
    "    \n",
    "    html_text=get_html_text(i, data_dir_path)\n",
    "    ids2.append(html_text)\n",
    "\n",
    "stop = set(stopwords.words('english'))\n",
    "new = [i for i in str(ids2).lower().split() if i not in stop and i.isalpha() ]\n",
    "Freq_dist_nltk=nltk.FreqDist(new)\n",
    "Freq_dist_nltk.plot(30,cumulative = False)"
   ]
  },
  {
   "cell_type": "code",
   "execution_count": 271,
   "metadata": {},
   "outputs": [
    {
     "data": {
      "text/html": [
       "Rather nasty piece of business featuring Bela Lugosi as a mad scientist (with yes, a Renfield-like assistant and his mother, a dwarf and yes, the scientist's wife (sounds like a Greenaway movie actually lol). Lugosi gives his wife injections from dead brides (why them? Who knows?) so that his wife can keep looking beautiful. He gets the brides after doing a pretty clever trick with some orchids that makes the brides collapse at the altar. After another bride bites the dust, a newspaper reporter just HAPPENS to be around for the scoop, and decides to snoop around for a story. She gets all sorts of clues about the orchids and Lugosi. Heaven knows where the police were. Soon she's off to Bela's lair, when she meets a sort of strange looking doctor who may or may not be eeeevil. It all cumulates in a totally far-fetched plan to have a fake wedding to capture the mad scientist, but it seems that the scientist has x-ray vision, as he foils her plans, Oh no! What will happen? I actually liked this movie as a bit of a guilty pleasure. Lugosi is great here, his hangers-on are all very very strange, the story is actually quite nasty in some places which makes it all most watchable. A fun little view."
      ],
      "text/plain": [
       "<IPython.core.display.HTML object>"
      ]
     },
     "execution_count": 271,
     "metadata": {},
     "output_type": "execute_result"
    }
   ],
   "source": [
    "get_htm_text(14121, data_dir_path) "
   ]
  },
  {
   "cell_type": "code",
   "execution_count": 266,
   "metadata": {},
   "outputs": [
    {
     "data": {
      "text/html": [
       "Marvelous film again dealing with the trials and tribulations of World War 11 England. What makes this film so good is the touching of the human element.This film is definitely in the tradition of such British line classics such as \"Mrs. Miniver\" and \"Hope and Glory.\" As is the case with this film, we see the desperation of people in the time of war.<br /><br />The performances are outstanding here especially by the embittered John Thaw, who is assigned a child who has been evacuated from the London bombing.<br /><br />We soon see why this child wets his bed. He comes from a lunatic mother who has abused him terribly.<br /><br />The old man takes to the child and brings happiness into his sad life. When the child is returned to his mother, the old man goes to London and seeks him out only to find tragedy. He literally kidnaps the boy and is able to convince a higher up that the child is better off with him than being in a boy's home.<br /><br />The picture is so good because it deals and builds on endearing relationships."
      ],
      "text/plain": [
       "<IPython.core.display.HTML object>"
      ]
     },
     "execution_count": 266,
     "metadata": {},
     "output_type": "execute_result"
    }
   ],
   "source": [
    "get_htm_text(22652, data_dir_path) "
   ]
  },
  {
   "cell_type": "code",
   "execution_count": 284,
   "metadata": {
    "scrolled": true
   },
   "outputs": [
    {
     "data": {
      "text/html": [
       "Kurt Russell is at his best as the man who lives off his past glories, Reno Hightower. Robin Williams is his polar opposite in a rare low key performance as Jack Dundee. He dropped the Big Pass in more ways than one.<br /><br />You'll see some of the most quotable scenes ever put into one film, as Jack hisses at a rat, Reno poses, and the call of the caribou goes out.<br /><br />Don't miss this classic that isn't scared to show football in the mud the way it should be played (note to the NFL)."
      ],
      "text/plain": [
       "<IPython.core.display.HTML object>"
      ]
     },
     "execution_count": 284,
     "metadata": {},
     "output_type": "execute_result"
    }
   ],
   "source": [
    "get_htm_text(21263, data_dir_path) "
   ]
  },
  {
   "cell_type": "code",
   "execution_count": 307,
   "metadata": {},
   "outputs": [
    {
     "data": {
      "text/plain": [
       "array([12510, 12530, 12543, ..., 24950, 24980, 24998])"
      ]
     },
     "execution_count": 307,
     "metadata": {},
     "output_type": "execute_result"
    }
   ],
   "source": [
    "extracted_review_ids2 = clusters_by_cid(9, custom_clusters) #8,11,6\n",
    "extracted_review_ids2"
   ]
  },
  {
   "cell_type": "code",
   "execution_count": 308,
   "metadata": {},
   "outputs": [
    {
     "data": {
      "image/png": "[encoded data removed]",
      "text/plain": [
       "<matplotlib.figure.Figure at 0x1a17c33550>"
      ]
     },
     "metadata": {},
     "output_type": "display_data"
    }
   ],
   "source": [
    "for i in extracted_review_ids2:\n",
    "    ids2=[]\n",
    "    \n",
    "    html_text=get_html_text(i, data_dir_path)\n",
    "    ids2.append(html_text)\n",
    "\n",
    "stop = set(stopwords.words('english'))\n",
    "new = [i for i in str(ids2).lower().split() if i not in stop and i.isalpha() ]\n",
    "Freq_dist_nltk=nltk.FreqDist(new)\n",
    "Freq_dist_nltk.plot(30,cumulative = False)"
   ]
  },
  {
   "cell_type": "code",
   "execution_count": 315,
   "metadata": {},
   "outputs": [
    {
     "data": {
      "text/html": [
       "Basically this is an overlong, unfunny, action/comedy. First of all I'd like to say that I did enjoy the Wayans brother Scary Movie (1) and the sequel had it's moments. Unfortunately white chicks doesn't even deliver HALF the laughs. <br /><br />The humour in it is absolutely crude. If you like burping, farting, stupid catchphrases you should probably look at this. When it isn't crude it's idiotic. The first 10 minutes of the film gave everything away to me, totally unfunny, simply idiotic. <br /><br />However I watched the whole thing since I was with a friend (otherwise I wouldn't have bothered). The story is undeniably thin, it was in scary movie too but there at least the laughs were quick and constant. I think this is probably one of the main problems too with this film, the laughs don't come quick enough. Some jokes are dragged out too long when they're more disgusting than funny in the first place. If you prefer your comedy with a few brain cells then just avoid this. If you want a silly comedy with more laughs then look at scary movie, airplane, hotshots 1 + 2. <br /><br />1/10 Completely unfunny, Thin storyline, A film that seems to be based on one idea (i.e. what if we dressed up as white chicks for a film?) but simply didn't have enough material."
      ],
      "text/plain": [
       "<IPython.core.display.HTML object>"
      ]
     },
     "execution_count": 315,
     "metadata": {},
     "output_type": "execute_result"
    }
   ],
   "source": [
    "get_htm_text(12510, data_dir_path) "
   ]
  },
  {
   "cell_type": "code",
   "execution_count": null,
   "metadata": {},
   "outputs": [],
   "source": []
  },
  {
   "cell_type": "code",
   "execution_count": 297,
   "metadata": {},
   "outputs": [
    {
     "data": {
      "text/html": [
       "It seemed as though the year 1984 was anything but the Orwellian nightmare it was calculated to be with George Orwell's science fiction novel!! 1984 turned out to be one of the happiest times in American history!! The upsurge in the economy, and a reemergence in basic American values, cultivated an idealistic aura of resumed innocence which was viewed by the American people with a very auspicious disposition!! There have been many ersatz renditions of classic movies in the past, but, the originals are almost always considered superior!! \"Purple Rain\" is such a movie in this category!! Made in 1984, \"Purple Rain\" provided a doggerel of eighties, happy-go-lucky quality music, which they incorporated into the making of this excellent film!! Certain artifacts indicative of the eighties are indeed classics!! Screwball comedies, neon accented clothing, and of course, the music!! Eighties music is considered by experts to be the best decade for music in American history!! Set in Minneapolis, \"Purple Rain\" accommodated the use of naive entertainment with the changing times of the city. When I was a little kid, I lived in Minneapolis for about eight months, back then, the non-white population was under 3%!! By 1984, African Americans had made some in roads into Minneapolis, and, thus, they established a firmly embedded culture of their own as well!! The movie \"Purple Rain\" evokes an eighties style clothing, and music ensemble, which effortlessly captivated the movie audience!! I loved the music to \"Purple Rain\", and, the innovative approach this film takes to confrontational success, is indeed, brilliant!! See this movie if you have not seen it already!! Prince became an eighties icon with this masterpiece!! For a short time, he dated Kim Bassinger, he must be doing something right!! \"Purple Rain\" put Prince on the map!! This film gets my emphatically assertive verdict of THUMBS UP!!!!"
      ],
      "text/plain": [
       "<IPython.core.display.HTML object>"
      ]
     },
     "execution_count": 297,
     "metadata": {},
     "output_type": "execute_result"
    }
   ],
   "source": [
    "get_htm_text(12503, data_dir_path) "
   ]
  },
  {
   "cell_type": "code",
   "execution_count": 302,
   "metadata": {},
   "outputs": [
    {
     "data": {
      "text/html": [
       "I'm an incorrigible skeptic and agnostic and was thus expecting to enjoy this film. After watching it, however, I honestly believe that I could have made a better documentary myself. Its arguments appear to have only four spurious sources (despite his being listed in the credits on IMDb I didn't see Richard Dawkins anywhere), it's edited together crudely with laughably amateurish computer effects, and it doesn't make even the slightest attempt to appear impartial. The narration is pervaded throughout with a sneering, almost adolescent anti-Christian sentiment, ruining any possibility that the film might actually change someone's mind as opposed to just preaching to the choir (i.e. me). Though there is some interesting discussion of the historicity of Jesus, the movie hits an unbearable snag when it begins to dwell heavily on the Christian school which the director attended as a child, an institution which apparently scarred him badly psychologically as it obsesses him to this day.<br /><br />Though TGWWT obviously had a low budget, there was still an opportunity here to make an intelligent commentary on the highly questionable roots of Christianity. There's certainly a dearth of skeptically-minded religious documentaries on the market, and this film could have helped fill the void. Instead, the director chose to insult our intelligence with this piece of garbage, which in the end appears to be some sort of therapeutic exercise for him. It's too bad that his Christian upbringing traumatized him, but he needn't subject an audience to his coping mechanism."
      ],
      "text/plain": [
       "<IPython.core.display.HTML object>"
      ]
     },
     "execution_count": 302,
     "metadata": {},
     "output_type": "execute_result"
    }
   ],
   "source": [
    "get_htm_text(24989, data_dir_path) "
   ]
  },
  {
   "cell_type": "code",
   "execution_count": 342,
   "metadata": {},
   "outputs": [
    {
     "data": {
      "text/plain": [
       "array([12590, 14055, 14056, 15009, 15082, 15394, 15528, 15739, 16637,\n",
       "       17058, 17270, 17877, 17946, 18110, 18481, 18609, 18662, 19843,\n",
       "       19887, 20554, 21435, 21760, 21779, 23033, 23063, 24318])"
      ]
     },
     "execution_count": 342,
     "metadata": {},
     "output_type": "execute_result"
    }
   ],
   "source": [
    "extracted_review_ids3 = clusters_by_cid(3, sparse_clusters) #3,1\n",
    "extracted_review_ids3"
   ]
  },
  {
   "cell_type": "code",
   "execution_count": 343,
   "metadata": {},
   "outputs": [
    {
     "data": {
      "image/png": "[encoded data removed]",
      "text/plain": [
       "<matplotlib.figure.Figure at 0x1a0ebf0780>"
      ]
     },
     "metadata": {},
     "output_type": "display_data"
    }
   ],
   "source": [
    "for i in extracted_review_ids3:\n",
    "    ids3=[]\n",
    "    \n",
    "    html_text=get_html_text(i, data_dir_path)\n",
    "    ids3.append(html_text)\n",
    "\n",
    "stop = set(stopwords.words('english'))\n",
    "new = [i for i in str(ids3).lower().split() if i not in stop and i.isalpha() ]\n",
    "Freq_dist_nltk=nltk.FreqDist(new)\n",
    "Freq_dist_nltk.plot(30,cumulative = False)"
   ]
  },
  {
   "cell_type": "code",
   "execution_count": 344,
   "metadata": {},
   "outputs": [
    {
     "data": {
      "text/html": [
       "I have been looking for this movie for so many years. I saw this move when I was nine and loved this movie. I called Disney all the movie stores and the net. No luck. What a waste it was a very good movie. It will be missed:("
      ],
      "text/plain": [
       "<IPython.core.display.HTML object>"
      ]
     },
     "execution_count": 344,
     "metadata": {},
     "output_type": "execute_result"
    }
   ],
   "source": [
    "get_htm_text(12590, data_dir_path) "
   ]
  },
  {
   "cell_type": "code",
   "execution_count": 345,
   "metadata": {},
   "outputs": [
    {
     "data": {
      "text/html": [
       "I don't know how anyone could hate this movie. It is so funny. It took a unique mind to come up with this storyline. It's not your typical alien movie. These aliens are so stupid and confused. You need to rent it at least once."
      ],
      "text/plain": [
       "<IPython.core.display.HTML object>"
      ]
     },
     "execution_count": 345,
     "metadata": {},
     "output_type": "execute_result"
    }
   ],
   "source": [
    "get_htm_text(14055, data_dir_path) "
   ]
  },
  {
   "cell_type": "code",
   "execution_count": 347,
   "metadata": {},
   "outputs": [
    {
     "data": {
      "text/html": [
       "What's not to like about this movie? Every year you know that you're going to get one or two yule tide movies during Christmas time and most of them are going to be terrible. This movie is definitely a fresh new idea that was pulled off pretty well. A very funny take on a rich young guy paying a family to simulate a real Christmas for him. What is the good of having money like that if you can't do fun things with it. It was a win-win situation. A regular family gets six figures and a rich guy gets to experience Christmas like he imagined. Only if.<br /><br />Drew Latham (Ben Affleck) was incredibly difficult to deal with and it was just a riot to see the family reluctantly comply with his absurd demands. It was a fun and funny movie."
      ],
      "text/plain": [
       "<IPython.core.display.HTML object>"
      ]
     },
     "execution_count": 347,
     "metadata": {},
     "output_type": "execute_result"
    }
   ],
   "source": [
    "get_htm_text(24318, data_dir_path) "
   ]
  },
  {
   "cell_type": "markdown",
   "metadata": {},
   "source": [
    "### Example 2: extract review IDs whose predicted cluster IDs are equal to that of review ID = 8"
   ]
  },
  {
   "cell_type": "code",
   "execution_count": 14,
   "metadata": {},
   "outputs": [
    {
     "name": "stdout",
     "output_type": "stream",
     "text": [
      "[12502 12506 12509 ... 24981 24983 24989]\n"
     ]
    }
   ],
   "source": [
    "extracted_review_ids2 = clusters_by_rid(2, pretrained_clusters)\n",
    "print (extracted_review_ids2)"
   ]
  },
  {
   "cell_type": "code",
   "execution_count": null,
   "metadata": {},
   "outputs": [],
   "source": []
  },
  {
   "cell_type": "markdown",
   "metadata": {},
   "source": [
    "### Example 3: get and show HTML text object of review ID = 8"
   ]
  },
  {
   "cell_type": "code",
   "execution_count": 15,
   "metadata": {},
   "outputs": [
    {
     "data": {
      "text/html": [
       "This movie is just horrible. It's boring, it's low quality, the actors are just the worst actors I have ever seen and the scenario is so bad that it's hilarious.<br /><br />The \"main\" actor is supposed to be the hot guy who gets all the girls, but he's ugly, overweight and looks like he's from the early 90's.<br /><br />All the characters are away for the week-end for a get together amongst friends, but nobody are actually friends! The married couple hasn't seen the \"main\" guy in over 5 years and even back then they weren't really friends. The \"date\" of the main guy only knows him from work and than there's a girl they pick-up at a bar. Now tell me that you would risk losing your job to spend a week-end at your cabin with people that aren't even your real friends. Because that's what he does at the beginning of the movie!<br /><br />Do not waste even one minute of your time on this lemon. I've made home movies scarier than this!<br /><br />"
      ],
      "text/plain": [
       "<IPython.core.display.HTML object>"
      ]
     },
     "metadata": {},
     "output_type": "display_data"
    }
   ],
   "source": [
    "html_text = get_html_text(8, data_dir_path)\n",
    "display(html_text)"
   ]
  },
  {
   "cell_type": "code",
   "execution_count": null,
   "metadata": {},
   "outputs": [],
   "source": []
  },
  {
   "cell_type": "markdown",
   "metadata": {},
   "source": [
    "## Examples of useful set of operations when reading in multiple files"
   ]
  },
  {
   "cell_type": "code",
   "execution_count": 130,
   "metadata": {},
   "outputs": [],
   "source": [
    "def check_if_pair_in_same_clusters(rid1, rid2, clusters1, clusters2):\n",
    "    # returns true if reviews rid1 and rid2 are clustered together in clusters1 and clustered together in clusters2\n",
    "    idx1 = rid1 - len(clusters1)\n",
    "    idx2 = rid2 - len(clusters2)\n",
    "    return clusters1[idx1][1] == clusters1[idx2][1] and clusters2[idx1][1] == clusters2[idx2][1]\n",
    "\n",
    "\n",
    "def extract_overlapped_review_ids(cid1, cid2, clusters1, clusters2):\n",
    "    # returns reviews that are common to cluster cid1 in clusters1 and cluster cid2 in clusters2\n",
    "    cid1_review_ids = clusters_by_cid(cid1, clusters1)\n",
    "    cid2_review_ids = clusters_by_cid(cid2, clusters2)\n",
    "    cid1_review_id_set = set(cid1_review_ids)\n",
    "    cid2_review_id_set = set(cid2_review_ids)\n",
    "    overlapped_set = set.intersection(cid1_review_id_set, cid2_review_id_set)\n",
    "    overlapped_rate = len(overlapped_set) / len(cid1_review_id_set)\n",
    "    return list(overlapped_set), overlapped_rate"
   ]
  },
  {
   "cell_type": "code",
   "execution_count": 41,
   "metadata": {},
   "outputs": [
    {
     "data": {
      "text/plain": [
       "False"
      ]
     },
     "execution_count": 41,
     "metadata": {},
     "output_type": "execute_result"
    }
   ],
   "source": [
    "check_if_pair_in_same_clusters(2000, 1000, pretrained_clusters, custom_clusters)"
   ]
  },
  {
   "cell_type": "code",
   "execution_count": null,
   "metadata": {},
   "outputs": [],
   "source": [
    "#7,0(41) ,  8,6(58),  5,7(38),  1,8(45),  pretrained, custom"
   ]
  },
  {
   "cell_type": "code",
   "execution_count": null,
   "metadata": {},
   "outputs": [],
   "source": [
    "#9,0(77), 3,1(80), 2,3(60), pretrained, sparse"
   ]
  },
  {
   "cell_type": "code",
   "execution_count": null,
   "metadata": {},
   "outputs": [],
   "source": [
    "# 9,2(83), 8，4(53) custom, sparse"
   ]
  },
  {
   "cell_type": "code",
   "execution_count": 212,
   "metadata": {
    "scrolled": false
   },
   "outputs": [
    {
     "name": "stdout",
     "output_type": "stream",
     "text": [
      "20.11935208866155% of review IDs are overlapped\n",
      "52.94117647058824% of review IDs are overlapped\n",
      "44.4353518821604% of review IDs are overlapped\n",
      "22.73449920508744% of review IDs are overlapped\n",
      "18.475073313782993% of review IDs are overlapped\n",
      "20.553691275167786% of review IDs are overlapped\n",
      "20.332541567695962% of review IDs are overlapped\n",
      "21.508034610630407% of review IDs are overlapped\n",
      "53.4466477809254% of review IDs are overlapped\n",
      "16.11635220125786% of review IDs are overlapped\n",
      "27.176781002638524% of review IDs are overlapped\n",
      "44.76067270375162% of review IDs are overlapped\n"
     ]
    }
   ],
   "source": [
    "Daniel=[0,1,2,3,4,5,6,7,8,9,10,11]\n",
    "for i in Daniel:\n",
    "    overlapped_ids, overlapped_rate = extract_overlapped_review_ids(i, 4, custom_clusters, sparse_clusters)\n",
    "    print(str(overlapped_rate * 100) + '% of review IDs are overlapped')"
   ]
  },
  {
   "cell_type": "markdown",
   "metadata": {},
   "source": [
    "## Don't be satisfied with our defined functions\n",
    "Make your own functions and/or combine our defined functions for comparing clusters"
   ]
  },
  {
   "cell_type": "code",
   "execution_count": null,
   "metadata": {},
   "outputs": [],
   "source": []
  }
 ],
 "metadata": {
  "kernelspec": {
   "display_name": "Python 3",
   "language": "python",
   "name": "python3"
  },
  "language_info": {
   "codemirror_mode": {
    "name": "ipython",
    "version": 3
   },
   "file_extension": ".py",
   "mimetype": "text/x-python",
   "name": "python",
   "nbconvert_exporter": "python",
   "pygments_lexer": "ipython3",
   "version": "3.6.4"
  }
 },
 "nbformat": 4,
 "nbformat_minor": 2
}
